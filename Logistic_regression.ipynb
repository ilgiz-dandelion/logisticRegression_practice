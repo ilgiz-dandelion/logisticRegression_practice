{
 "cells": [
  {
   "cell_type": "markdown",
   "id": "efd4aa3e-abd8-4379-ac4c-d8a8306fb9ed",
   "metadata": {},
   "source": [
    "## Logistic Regression"
   ]
  },
  {
   "cell_type": "code",
   "execution_count": 1,
   "id": "c212bbfe-16cc-47f0-9d55-d270bc870b01",
   "metadata": {},
   "outputs": [],
   "source": [
    "import pandas as pd\n",
    "import matplotlib.pyplot as plt\n",
    "import numpy as np"
   ]
  },
  {
   "cell_type": "markdown",
   "id": "9502a1c2-5564-4823-81ca-36a78bdd4e62",
   "metadata": {},
   "source": [
    "# Iris practice"
   ]
  },
  {
   "cell_type": "code",
   "execution_count": 9,
   "id": "90cc98d4-3a18-4ae0-883b-19b48b2b0cec",
   "metadata": {},
   "outputs": [],
   "source": [
    "df = pd.read_csv('iris_short.csv')"
   ]
  },
  {
   "cell_type": "code",
   "execution_count": 10,
   "id": "5652228c-91a3-4181-b606-f2314ac5475c",
   "metadata": {},
   "outputs": [
    {
     "data": {
      "text/html": [
       "<div>\n",
       "<style scoped>\n",
       "    .dataframe tbody tr th:only-of-type {\n",
       "        vertical-align: middle;\n",
       "    }\n",
       "\n",
       "    .dataframe tbody tr th {\n",
       "        vertical-align: top;\n",
       "    }\n",
       "\n",
       "    .dataframe thead th {\n",
       "        text-align: right;\n",
       "    }\n",
       "</style>\n",
       "<table border=\"1\" class=\"dataframe\">\n",
       "  <thead>\n",
       "    <tr style=\"text-align: right;\">\n",
       "      <th></th>\n",
       "      <th>Id</th>\n",
       "      <th>PetalLengthCm</th>\n",
       "      <th>PetalWidthCm</th>\n",
       "      <th>Species</th>\n",
       "    </tr>\n",
       "  </thead>\n",
       "  <tbody>\n",
       "    <tr>\n",
       "      <th>0</th>\n",
       "      <td>1</td>\n",
       "      <td>1.4</td>\n",
       "      <td>0.2</td>\n",
       "      <td>Iris-setosa</td>\n",
       "    </tr>\n",
       "    <tr>\n",
       "      <th>1</th>\n",
       "      <td>2</td>\n",
       "      <td>1.4</td>\n",
       "      <td>0.2</td>\n",
       "      <td>Iris-setosa</td>\n",
       "    </tr>\n",
       "    <tr>\n",
       "      <th>2</th>\n",
       "      <td>3</td>\n",
       "      <td>1.3</td>\n",
       "      <td>0.2</td>\n",
       "      <td>Iris-setosa</td>\n",
       "    </tr>\n",
       "    <tr>\n",
       "      <th>3</th>\n",
       "      <td>4</td>\n",
       "      <td>1.5</td>\n",
       "      <td>0.2</td>\n",
       "      <td>Iris-setosa</td>\n",
       "    </tr>\n",
       "    <tr>\n",
       "      <th>4</th>\n",
       "      <td>5</td>\n",
       "      <td>1.4</td>\n",
       "      <td>0.2</td>\n",
       "      <td>Iris-setosa</td>\n",
       "    </tr>\n",
       "  </tbody>\n",
       "</table>\n",
       "</div>"
      ],
      "text/plain": [
       "   Id  PetalLengthCm  PetalWidthCm      Species\n",
       "0   1            1.4           0.2  Iris-setosa\n",
       "1   2            1.4           0.2  Iris-setosa\n",
       "2   3            1.3           0.2  Iris-setosa\n",
       "3   4            1.5           0.2  Iris-setosa\n",
       "4   5            1.4           0.2  Iris-setosa"
      ]
     },
     "execution_count": 10,
     "metadata": {},
     "output_type": "execute_result"
    }
   ],
   "source": [
    "df.head()"
   ]
  },
  {
   "cell_type": "code",
   "execution_count": 11,
   "id": "94b69c86-de3f-4e03-a846-b0c86a5d44e0",
   "metadata": {},
   "outputs": [
    {
     "name": "stdout",
     "output_type": "stream",
     "text": [
      "<class 'pandas.core.frame.DataFrame'>\n",
      "RangeIndex: 100 entries, 0 to 99\n",
      "Data columns (total 4 columns):\n",
      " #   Column         Non-Null Count  Dtype  \n",
      "---  ------         --------------  -----  \n",
      " 0   Id             100 non-null    int64  \n",
      " 1   PetalLengthCm  100 non-null    float64\n",
      " 2   PetalWidthCm   100 non-null    float64\n",
      " 3   Species        100 non-null    object \n",
      "dtypes: float64(2), int64(1), object(1)\n",
      "memory usage: 3.2+ KB\n"
     ]
    }
   ],
   "source": [
    "df.info()"
   ]
  },
  {
   "cell_type": "code",
   "execution_count": 12,
   "id": "c04af89e-88c5-488f-a9b9-b2d332f2344e",
   "metadata": {},
   "outputs": [
    {
     "data": {
      "text/plain": [
       "array(['Iris-setosa', 'Iris-versicolor'], dtype=object)"
      ]
     },
     "execution_count": 12,
     "metadata": {},
     "output_type": "execute_result"
    }
   ],
   "source": [
    "df['Species'].unique()"
   ]
  },
  {
   "cell_type": "code",
   "execution_count": 13,
   "id": "daa50984-acc6-4e89-b109-1c77ab014440",
   "metadata": {},
   "outputs": [],
   "source": [
    "df['Species'] = df['Species'].map({'Iris-setosa' : 0,\n",
    "                                   'Iris-versicolor' : 1 })"
   ]
  },
  {
   "cell_type": "code",
   "execution_count": 14,
   "id": "3b653801-35d6-477d-8339-9fa9b5ccc036",
   "metadata": {},
   "outputs": [
    {
     "data": {
      "text/html": [
       "<div>\n",
       "<style scoped>\n",
       "    .dataframe tbody tr th:only-of-type {\n",
       "        vertical-align: middle;\n",
       "    }\n",
       "\n",
       "    .dataframe tbody tr th {\n",
       "        vertical-align: top;\n",
       "    }\n",
       "\n",
       "    .dataframe thead th {\n",
       "        text-align: right;\n",
       "    }\n",
       "</style>\n",
       "<table border=\"1\" class=\"dataframe\">\n",
       "  <thead>\n",
       "    <tr style=\"text-align: right;\">\n",
       "      <th></th>\n",
       "      <th>Id</th>\n",
       "      <th>PetalLengthCm</th>\n",
       "      <th>PetalWidthCm</th>\n",
       "      <th>Species</th>\n",
       "    </tr>\n",
       "  </thead>\n",
       "  <tbody>\n",
       "    <tr>\n",
       "      <th>0</th>\n",
       "      <td>1</td>\n",
       "      <td>1.4</td>\n",
       "      <td>0.2</td>\n",
       "      <td>0</td>\n",
       "    </tr>\n",
       "    <tr>\n",
       "      <th>1</th>\n",
       "      <td>2</td>\n",
       "      <td>1.4</td>\n",
       "      <td>0.2</td>\n",
       "      <td>0</td>\n",
       "    </tr>\n",
       "    <tr>\n",
       "      <th>2</th>\n",
       "      <td>3</td>\n",
       "      <td>1.3</td>\n",
       "      <td>0.2</td>\n",
       "      <td>0</td>\n",
       "    </tr>\n",
       "    <tr>\n",
       "      <th>3</th>\n",
       "      <td>4</td>\n",
       "      <td>1.5</td>\n",
       "      <td>0.2</td>\n",
       "      <td>0</td>\n",
       "    </tr>\n",
       "    <tr>\n",
       "      <th>4</th>\n",
       "      <td>5</td>\n",
       "      <td>1.4</td>\n",
       "      <td>0.2</td>\n",
       "      <td>0</td>\n",
       "    </tr>\n",
       "    <tr>\n",
       "      <th>...</th>\n",
       "      <td>...</td>\n",
       "      <td>...</td>\n",
       "      <td>...</td>\n",
       "      <td>...</td>\n",
       "    </tr>\n",
       "    <tr>\n",
       "      <th>95</th>\n",
       "      <td>96</td>\n",
       "      <td>4.2</td>\n",
       "      <td>1.2</td>\n",
       "      <td>1</td>\n",
       "    </tr>\n",
       "    <tr>\n",
       "      <th>96</th>\n",
       "      <td>97</td>\n",
       "      <td>4.2</td>\n",
       "      <td>1.3</td>\n",
       "      <td>1</td>\n",
       "    </tr>\n",
       "    <tr>\n",
       "      <th>97</th>\n",
       "      <td>98</td>\n",
       "      <td>4.3</td>\n",
       "      <td>1.3</td>\n",
       "      <td>1</td>\n",
       "    </tr>\n",
       "    <tr>\n",
       "      <th>98</th>\n",
       "      <td>99</td>\n",
       "      <td>3.0</td>\n",
       "      <td>1.1</td>\n",
       "      <td>1</td>\n",
       "    </tr>\n",
       "    <tr>\n",
       "      <th>99</th>\n",
       "      <td>100</td>\n",
       "      <td>4.1</td>\n",
       "      <td>1.3</td>\n",
       "      <td>1</td>\n",
       "    </tr>\n",
       "  </tbody>\n",
       "</table>\n",
       "<p>100 rows × 4 columns</p>\n",
       "</div>"
      ],
      "text/plain": [
       "     Id  PetalLengthCm  PetalWidthCm  Species\n",
       "0     1            1.4           0.2        0\n",
       "1     2            1.4           0.2        0\n",
       "2     3            1.3           0.2        0\n",
       "3     4            1.5           0.2        0\n",
       "4     5            1.4           0.2        0\n",
       "..  ...            ...           ...      ...\n",
       "95   96            4.2           1.2        1\n",
       "96   97            4.2           1.3        1\n",
       "97   98            4.3           1.3        1\n",
       "98   99            3.0           1.1        1\n",
       "99  100            4.1           1.3        1\n",
       "\n",
       "[100 rows x 4 columns]"
      ]
     },
     "execution_count": 14,
     "metadata": {},
     "output_type": "execute_result"
    }
   ],
   "source": [
    "df"
   ]
  },
  {
   "cell_type": "code",
   "execution_count": 15,
   "id": "95bb79bf-2380-4037-b378-75a38b778307",
   "metadata": {},
   "outputs": [
    {
     "data": {
      "text/plain": [
       "<matplotlib.collections.PathCollection at 0x16e8aace0>"
      ]
     },
     "execution_count": 15,
     "metadata": {},
     "output_type": "execute_result"
    },
    {
     "data": {
      "image/png": "[encoded data removed]",
      "text/plain": [
       "<Figure size 640x480 with 1 Axes>"
      ]
     },
     "metadata": {},
     "output_type": "display_data"
    }
   ],
   "source": [
    "plt.scatter(x=df['PetalLengthCm'], \n",
    "               y=df['PetalWidthCm'],\n",
    "                c= df['Species'])"
   ]
  },
  {
   "cell_type": "code",
   "execution_count": 16,
   "id": "9137079a-4aaf-4b22-a10d-2f564d5ff267",
   "metadata": {},
   "outputs": [],
   "source": [
    "X = df[['PetalLengthCm', 'PetalWidthCm']]\n",
    "y = df['Species']"
   ]
  },
  {
   "cell_type": "code",
   "execution_count": 17,
   "id": "70b94a5e-6e95-489b-81dd-b8b1f5e291bb",
   "metadata": {},
   "outputs": [],
   "source": [
    "from sklearn.linear_model import LinearRegression"
   ]
  },
  {
   "cell_type": "code",
   "execution_count": 18,
   "id": "0fc58e2f-faa1-46ae-8cfc-52275bf8346c",
   "metadata": {},
   "outputs": [
    {
     "data": {
      "text/html": [
       "<style>#sk-container-id-1 {color: black;}#sk-container-id-1 pre{padding: 0;}#sk-container-id-1 div.sk-toggleable {background-color: white;}#sk-container-id-1 label.sk-toggleable__label {cursor: pointer;display: block;width: 100%;margin-bottom: 0;padding: 0.3em;box-sizing: border-box;text-align: center;}#sk-container-id-1 label.sk-toggleable__label-arrow:before {content: \"▸\";float: left;margin-right: 0.25em;color: #696969;}#sk-container-id-1 label.sk-toggleable__label-arrow:hover:before {color: black;}#sk-container-id-1 div.sk-estimator:hover label.sk-toggleable__label-arrow:before {color: black;}#sk-container-id-1 div.sk-toggleable__content {max-height: 0;max-width: 0;overflow: hidden;text-align: left;background-color: #f0f8ff;}#sk-container-id-1 div.sk-toggleable__content pre {margin: 0.2em;color: black;border-radius: 0.25em;background-color: #f0f8ff;}#sk-container-id-1 input.sk-toggleable__control:checked~div.sk-toggleable__content {max-height: 200px;max-width: 100%;overflow: auto;}#sk-container-id-1 input.sk-toggleable__control:checked~label.sk-toggleable__label-arrow:before {content: \"▾\";}#sk-container-id-1 div.sk-estimator input.sk-toggleable__control:checked~label.sk-toggleable__label {background-color: #d4ebff;}#sk-container-id-1 div.sk-label input.sk-toggleable__control:checked~label.sk-toggleable__label {background-color: #d4ebff;}#sk-container-id-1 input.sk-hidden--visually {border: 0;clip: rect(1px 1px 1px 1px);clip: rect(1px, 1px, 1px, 1px);height: 1px;margin: -1px;overflow: hidden;padding: 0;position: absolute;width: 1px;}#sk-container-id-1 div.sk-estimator {font-family: monospace;background-color: #f0f8ff;border: 1px dotted black;border-radius: 0.25em;box-sizing: border-box;margin-bottom: 0.5em;}#sk-container-id-1 div.sk-estimator:hover {background-color: #d4ebff;}#sk-container-id-1 div.sk-parallel-item::after {content: \"\";width: 100%;border-bottom: 1px solid gray;flex-grow: 1;}#sk-container-id-1 div.sk-label:hover label.sk-toggleable__label {background-color: #d4ebff;}#sk-container-id-1 div.sk-serial::before {content: \"\";position: absolute;border-left: 1px solid gray;box-sizing: border-box;top: 0;bottom: 0;left: 50%;z-index: 0;}#sk-container-id-1 div.sk-serial {display: flex;flex-direction: column;align-items: center;background-color: white;padding-right: 0.2em;padding-left: 0.2em;position: relative;}#sk-container-id-1 div.sk-item {position: relative;z-index: 1;}#sk-container-id-1 div.sk-parallel {display: flex;align-items: stretch;justify-content: center;background-color: white;position: relative;}#sk-container-id-1 div.sk-item::before, #sk-container-id-1 div.sk-parallel-item::before {content: \"\";position: absolute;border-left: 1px solid gray;box-sizing: border-box;top: 0;bottom: 0;left: 50%;z-index: -1;}#sk-container-id-1 div.sk-parallel-item {display: flex;flex-direction: column;z-index: 1;position: relative;background-color: white;}#sk-container-id-1 div.sk-parallel-item:first-child::after {align-self: flex-end;width: 50%;}#sk-container-id-1 div.sk-parallel-item:last-child::after {align-self: flex-start;width: 50%;}#sk-container-id-1 div.sk-parallel-item:only-child::after {width: 0;}#sk-container-id-1 div.sk-dashed-wrapped {border: 1px dashed gray;margin: 0 0.4em 0.5em 0.4em;box-sizing: border-box;padding-bottom: 0.4em;background-color: white;}#sk-container-id-1 div.sk-label label {font-family: monospace;font-weight: bold;display: inline-block;line-height: 1.2em;}#sk-container-id-1 div.sk-label-container {text-align: center;}#sk-container-id-1 div.sk-container {/* jupyter's `normalize.less` sets `[hidden] { display: none; }` but bootstrap.min.css set `[hidden] { display: none !important; }` so we also need the `!important` here to be able to override the default hidden behavior on the sphinx rendered scikit-learn.org. See: https://github.com/scikit-learn/scikit-learn/issues/21755 */display: inline-block !important;position: relative;}#sk-container-id-1 div.sk-text-repr-fallback {display: none;}</style><div id=\"sk-container-id-1\" class=\"sk-top-container\"><div class=\"sk-text-repr-fallback\"><pre>LinearRegression()</pre><b>In a Jupyter environment, please rerun this cell to show the HTML representation or trust the notebook. <br />On GitHub, the HTML representation is unable to render, please try loading this page with nbviewer.org.</b></div><div class=\"sk-container\" hidden><div class=\"sk-item\"><div class=\"sk-estimator sk-toggleable\"><input class=\"sk-toggleable__control sk-hidden--visually\" id=\"sk-estimator-id-1\" type=\"checkbox\" checked><label for=\"sk-estimator-id-1\" class=\"sk-toggleable__label sk-toggleable__label-arrow\">LinearRegression</label><div class=\"sk-toggleable__content\"><pre>LinearRegression()</pre></div></div></div></div></div>"
      ],
      "text/plain": [
       "LinearRegression()"
      ]
     },
     "execution_count": 18,
     "metadata": {},
     "output_type": "execute_result"
    }
   ],
   "source": [
    "model = LinearRegression()\n",
    "model.fit(X,y)"
   ]
  },
  {
   "cell_type": "code",
   "execution_count": 19,
   "id": "73a294aa-8e6e-4061-be99-15d5776c4995",
   "metadata": {},
   "outputs": [
    {
     "data": {
      "text/plain": [
       "0.943555300410099"
      ]
     },
     "execution_count": 19,
     "metadata": {},
     "output_type": "execute_result"
    }
   ],
   "source": [
    "model.score(X,y)"
   ]
  },
  {
   "cell_type": "code",
   "execution_count": 20,
   "id": "e2b2d5c3-2494-4a52-a1ed-3b186ed0ed68",
   "metadata": {},
   "outputs": [
    {
     "data": {
      "text/plain": [
       "array([ 0.  ,  0.  , -0.02,  0.03,  0.  ,  0.12,  0.02,  0.03,  0.  ,\n",
       "        0.  ,  0.03,  0.05, -0.02, -0.1 , -0.05,  0.07,  0.02,  0.02,\n",
       "        0.1 ,  0.05,  0.08,  0.07, -0.1 ,  0.15,  0.13,  0.05,  0.1 ,\n",
       "        0.03,  0.  ,  0.05,  0.05,  0.07,  0.  ,  0.  ,  0.  , -0.05,\n",
       "       -0.02,  0.  , -0.02,  0.03,  0.  ,  0.  , -0.02,  0.14,  0.17,\n",
       "        0.02,  0.05,  0.  ,  0.03,  0.  ,  1.1 ,  1.07,  1.17,  0.9 ,\n",
       "        1.1 ,  1.03,  1.14,  0.66,  1.05,  0.9 ,  0.71,  1.  ,  0.83,\n",
       "        1.1 ,  0.8 ,  1.02,  1.07,  0.86,  1.07,  0.83,  1.21,  0.9 ,\n",
       "        1.17,  1.05,  0.98,  1.02,  1.12,  1.24,  1.07,  0.71,  0.81,\n",
       "        0.76,  0.85,  1.24,  1.07,  1.09,  1.12,  1.  ,  0.93,  0.9 ,\n",
       "        0.98,  1.07,  0.88,  0.66,  0.95,  0.93,  0.95,  0.98,  0.61,\n",
       "        0.93])"
      ]
     },
     "execution_count": 20,
     "metadata": {},
     "output_type": "execute_result"
    }
   ],
   "source": [
    "y_pred = model.predict(X)\n",
    "np.around(y_pred, decimals=2)"
   ]
  },
  {
   "cell_type": "code",
   "execution_count": 21,
   "id": "f1bd4d07-27f5-418d-90a6-da4b9a763cab",
   "metadata": {},
   "outputs": [
    {
     "data": {
      "text/plain": [
       "array([0, 0, 0, 0, 0, 0, 0, 0, 0, 0, 0, 0, 0, 0, 0, 0, 0, 0, 0, 0, 0, 0,\n",
       "       0, 0, 0, 0, 0, 0, 0, 0, 0, 0, 0, 0, 0, 0, 0, 0, 0, 0, 0, 0, 0, 0,\n",
       "       0, 0, 0, 0, 0, 0, 1, 1, 1, 1, 1, 1, 1, 1, 1, 1, 1, 1, 1, 1, 1, 1,\n",
       "       1, 1, 1, 1, 1, 1, 1, 1, 1, 1, 1, 1, 1, 1, 1, 1, 1, 1, 1, 1, 1, 1,\n",
       "       1, 1, 1, 1, 1, 1, 1, 1, 1, 1, 1, 1])"
      ]
     },
     "execution_count": 21,
     "metadata": {},
     "output_type": "execute_result"
    }
   ],
   "source": [
    "np.array(y)"
   ]
  },
  {
   "cell_type": "code",
   "execution_count": 22,
   "id": "661ef5c3-b2c4-47bd-a5f3-b96370c899a9",
   "metadata": {},
   "outputs": [
    {
     "data": {
      "text/plain": [
       "<matplotlib.collections.PathCollection at 0x1773a2350>"
      ]
     },
     "execution_count": 22,
     "metadata": {},
     "output_type": "execute_result"
    },
    {
     "data": {
      "image/png": "[encoded data removed]",
      "text/plain": [
       "<Figure size 640x480 with 1 Axes>"
      ]
     },
     "metadata": {},
     "output_type": "display_data"
    }
   ],
   "source": [
    "plt.scatter(x=df['PetalLengthCm'], \n",
    "               y=df['PetalWidthCm'],\n",
    "                c= y_pred)"
   ]
  },
  {
   "cell_type": "code",
   "execution_count": 23,
   "id": "e2136df9-2ec0-488d-9b6e-88e3b9c9d639",
   "metadata": {},
   "outputs": [
    {
     "data": {
      "text/html": [
       "<style>#sk-container-id-2 {color: black;}#sk-container-id-2 pre{padding: 0;}#sk-container-id-2 div.sk-toggleable {background-color: white;}#sk-container-id-2 label.sk-toggleable__label {cursor: pointer;display: block;width: 100%;margin-bottom: 0;padding: 0.3em;box-sizing: border-box;text-align: center;}#sk-container-id-2 label.sk-toggleable__label-arrow:before {content: \"▸\";float: left;margin-right: 0.25em;color: #696969;}#sk-container-id-2 label.sk-toggleable__label-arrow:hover:before {color: black;}#sk-container-id-2 div.sk-estimator:hover label.sk-toggleable__label-arrow:before {color: black;}#sk-container-id-2 div.sk-toggleable__content {max-height: 0;max-width: 0;overflow: hidden;text-align: left;background-color: #f0f8ff;}#sk-container-id-2 div.sk-toggleable__content pre {margin: 0.2em;color: black;border-radius: 0.25em;background-color: #f0f8ff;}#sk-container-id-2 input.sk-toggleable__control:checked~div.sk-toggleable__content {max-height: 200px;max-width: 100%;overflow: auto;}#sk-container-id-2 input.sk-toggleable__control:checked~label.sk-toggleable__label-arrow:before {content: \"▾\";}#sk-container-id-2 div.sk-estimator input.sk-toggleable__control:checked~label.sk-toggleable__label {background-color: #d4ebff;}#sk-container-id-2 div.sk-label input.sk-toggleable__control:checked~label.sk-toggleable__label {background-color: #d4ebff;}#sk-container-id-2 input.sk-hidden--visually {border: 0;clip: rect(1px 1px 1px 1px);clip: rect(1px, 1px, 1px, 1px);height: 1px;margin: -1px;overflow: hidden;padding: 0;position: absolute;width: 1px;}#sk-container-id-2 div.sk-estimator {font-family: monospace;background-color: #f0f8ff;border: 1px dotted black;border-radius: 0.25em;box-sizing: border-box;margin-bottom: 0.5em;}#sk-container-id-2 div.sk-estimator:hover {background-color: #d4ebff;}#sk-container-id-2 div.sk-parallel-item::after {content: \"\";width: 100%;border-bottom: 1px solid gray;flex-grow: 1;}#sk-container-id-2 div.sk-label:hover label.sk-toggleable__label {background-color: #d4ebff;}#sk-container-id-2 div.sk-serial::before {content: \"\";position: absolute;border-left: 1px solid gray;box-sizing: border-box;top: 0;bottom: 0;left: 50%;z-index: 0;}#sk-container-id-2 div.sk-serial {display: flex;flex-direction: column;align-items: center;background-color: white;padding-right: 0.2em;padding-left: 0.2em;position: relative;}#sk-container-id-2 div.sk-item {position: relative;z-index: 1;}#sk-container-id-2 div.sk-parallel {display: flex;align-items: stretch;justify-content: center;background-color: white;position: relative;}#sk-container-id-2 div.sk-item::before, #sk-container-id-2 div.sk-parallel-item::before {content: \"\";position: absolute;border-left: 1px solid gray;box-sizing: border-box;top: 0;bottom: 0;left: 50%;z-index: -1;}#sk-container-id-2 div.sk-parallel-item {display: flex;flex-direction: column;z-index: 1;position: relative;background-color: white;}#sk-container-id-2 div.sk-parallel-item:first-child::after {align-self: flex-end;width: 50%;}#sk-container-id-2 div.sk-parallel-item:last-child::after {align-self: flex-start;width: 50%;}#sk-container-id-2 div.sk-parallel-item:only-child::after {width: 0;}#sk-container-id-2 div.sk-dashed-wrapped {border: 1px dashed gray;margin: 0 0.4em 0.5em 0.4em;box-sizing: border-box;padding-bottom: 0.4em;background-color: white;}#sk-container-id-2 div.sk-label label {font-family: monospace;font-weight: bold;display: inline-block;line-height: 1.2em;}#sk-container-id-2 div.sk-label-container {text-align: center;}#sk-container-id-2 div.sk-container {/* jupyter's `normalize.less` sets `[hidden] { display: none; }` but bootstrap.min.css set `[hidden] { display: none !important; }` so we also need the `!important` here to be able to override the default hidden behavior on the sphinx rendered scikit-learn.org. See: https://github.com/scikit-learn/scikit-learn/issues/21755 */display: inline-block !important;position: relative;}#sk-container-id-2 div.sk-text-repr-fallback {display: none;}</style><div id=\"sk-container-id-2\" class=\"sk-top-container\"><div class=\"sk-text-repr-fallback\"><pre>LogisticRegression()</pre><b>In a Jupyter environment, please rerun this cell to show the HTML representation or trust the notebook. <br />On GitHub, the HTML representation is unable to render, please try loading this page with nbviewer.org.</b></div><div class=\"sk-container\" hidden><div class=\"sk-item\"><div class=\"sk-estimator sk-toggleable\"><input class=\"sk-toggleable__control sk-hidden--visually\" id=\"sk-estimator-id-2\" type=\"checkbox\" checked><label for=\"sk-estimator-id-2\" class=\"sk-toggleable__label sk-toggleable__label-arrow\">LogisticRegression</label><div class=\"sk-toggleable__content\"><pre>LogisticRegression()</pre></div></div></div></div></div>"
      ],
      "text/plain": [
       "LogisticRegression()"
      ]
     },
     "execution_count": 23,
     "metadata": {},
     "output_type": "execute_result"
    }
   ],
   "source": [
    "model_classifier = LogisticRegression()\n",
    "model_classifier.fit(X,y)"
   ]
  },
  {
   "cell_type": "code",
   "execution_count": 24,
   "id": "050e717b-b9a8-453c-a262-afda4822237b",
   "metadata": {},
   "outputs": [
    {
     "data": {
      "text/plain": [
       "1.0"
      ]
     },
     "execution_count": 24,
     "metadata": {},
     "output_type": "execute_result"
    }
   ],
   "source": [
    "model_classifier.score(X,y)"
   ]
  },
  {
   "cell_type": "code",
   "execution_count": 25,
   "id": "431e00de-e269-45a3-a297-3ac92ef79e64",
   "metadata": {},
   "outputs": [
    {
     "data": {
      "text/plain": [
       "0.943555300410099"
      ]
     },
     "execution_count": 25,
     "metadata": {},
     "output_type": "execute_result"
    }
   ],
   "source": [
    "model.score(X,y)"
   ]
  },
  {
   "cell_type": "code",
   "execution_count": 26,
   "id": "78e9a7ae-3861-4c6a-8fb8-f53b0800af64",
   "metadata": {},
   "outputs": [
    {
     "data": {
      "text/plain": [
       "array([0, 0, 0, 0, 0, 0, 0, 0, 0, 0, 0, 0, 0, 0, 0, 0, 0, 0, 0, 0, 0, 0,\n",
       "       0, 0, 0, 0, 0, 0, 0, 0, 0, 0, 0, 0, 0, 0, 0, 0, 0, 0, 0, 0, 0, 0,\n",
       "       0, 0, 0, 0, 0, 0, 1, 1, 1, 1, 1, 1, 1, 1, 1, 1, 1, 1, 1, 1, 1, 1,\n",
       "       1, 1, 1, 1, 1, 1, 1, 1, 1, 1, 1, 1, 1, 1, 1, 1, 1, 1, 1, 1, 1, 1,\n",
       "       1, 1, 1, 1, 1, 1, 1, 1, 1, 1, 1, 1])"
      ]
     },
     "execution_count": 26,
     "metadata": {},
     "output_type": "execute_result"
    }
   ],
   "source": [
    "model_classifier.predict(X)"
   ]
  },
  {
   "cell_type": "code",
   "execution_count": 27,
   "id": "f81eac9d-67c1-4559-92be-1b0b39d3e683",
   "metadata": {},
   "outputs": [
    {
     "data": {
      "text/plain": [
       "array([ 0.  ,  0.  , -0.02,  0.03,  0.  ,  0.12,  0.02,  0.03,  0.  ,\n",
       "        0.  ,  0.03,  0.05, -0.02, -0.1 , -0.05,  0.07,  0.02,  0.02,\n",
       "        0.1 ,  0.05,  0.08,  0.07, -0.1 ,  0.15,  0.13,  0.05,  0.1 ,\n",
       "        0.03,  0.  ,  0.05,  0.05,  0.07,  0.  ,  0.  ,  0.  , -0.05,\n",
       "       -0.02,  0.  , -0.02,  0.03,  0.  ,  0.  , -0.02,  0.14,  0.17,\n",
       "        0.02,  0.05,  0.  ,  0.03,  0.  ,  1.1 ,  1.07,  1.17,  0.9 ,\n",
       "        1.1 ,  1.03,  1.14,  0.66,  1.05,  0.9 ,  0.71,  1.  ,  0.83,\n",
       "        1.1 ,  0.8 ,  1.02,  1.07,  0.86,  1.07,  0.83,  1.21,  0.9 ,\n",
       "        1.17,  1.05,  0.98,  1.02,  1.12,  1.24,  1.07,  0.71,  0.81,\n",
       "        0.76,  0.85,  1.24,  1.07,  1.09,  1.12,  1.  ,  0.93,  0.9 ,\n",
       "        0.98,  1.07,  0.88,  0.66,  0.95,  0.93,  0.95,  0.98,  0.61,\n",
       "        0.93])"
      ]
     },
     "execution_count": 27,
     "metadata": {},
     "output_type": "execute_result"
    }
   ],
   "source": [
    "np.around(y_pred, decimals=2)"
   ]
  },
  {
   "cell_type": "code",
   "execution_count": 28,
   "id": "b5465687-1f9f-4655-9c92-12840e24d5b1",
   "metadata": {},
   "outputs": [
    {
     "name": "stderr",
     "output_type": "stream",
     "text": [
      "/Library/Frameworks/Python.framework/Versions/3.10/lib/python3.10/site-packages/sklearn/base.py:464: UserWarning: X does not have valid feature names, but LogisticRegression was fitted with feature names\n",
      "  warnings.warn(\n"
     ]
    },
    {
     "data": {
      "text/plain": [
       "array([1])"
      ]
     },
     "execution_count": 28,
     "metadata": {},
     "output_type": "execute_result"
    }
   ],
   "source": [
    "model_classifier.predict([[2,4]])"
   ]
  },
  {
   "cell_type": "markdown",
   "id": "67b52341-037b-4bd4-a157-c2a82b389f57",
   "metadata": {},
   "source": [
    "### Telecom Churn ###"
   ]
  },
  {
   "cell_type": "code",
   "execution_count": 30,
   "id": "89bd63f2-245d-44a5-a14b-13705ebb4b9e",
   "metadata": {},
   "outputs": [
    {
     "data": {
      "text/html": [
       "<div>\n",
       "<style scoped>\n",
       "    .dataframe tbody tr th:only-of-type {\n",
       "        vertical-align: middle;\n",
       "    }\n",
       "\n",
       "    .dataframe tbody tr th {\n",
       "        vertical-align: top;\n",
       "    }\n",
       "\n",
       "    .dataframe thead th {\n",
       "        text-align: right;\n",
       "    }\n",
       "</style>\n",
       "<table border=\"1\" class=\"dataframe\">\n",
       "  <thead>\n",
       "    <tr style=\"text-align: right;\">\n",
       "      <th></th>\n",
       "      <th>State</th>\n",
       "      <th>Account length</th>\n",
       "      <th>Area code</th>\n",
       "      <th>International plan</th>\n",
       "      <th>Voice mail plan</th>\n",
       "      <th>Number vmail messages</th>\n",
       "      <th>Total day minutes</th>\n",
       "      <th>Total day calls</th>\n",
       "      <th>Total day charge</th>\n",
       "      <th>Total eve minutes</th>\n",
       "      <th>Total eve calls</th>\n",
       "      <th>Total eve charge</th>\n",
       "      <th>Total night minutes</th>\n",
       "      <th>Total night calls</th>\n",
       "      <th>Total night charge</th>\n",
       "      <th>Total intl minutes</th>\n",
       "      <th>Total intl calls</th>\n",
       "      <th>Total intl charge</th>\n",
       "      <th>Customer service calls</th>\n",
       "      <th>Churn</th>\n",
       "    </tr>\n",
       "  </thead>\n",
       "  <tbody>\n",
       "    <tr>\n",
       "      <th>0</th>\n",
       "      <td>KS</td>\n",
       "      <td>128</td>\n",
       "      <td>415</td>\n",
       "      <td>No</td>\n",
       "      <td>Yes</td>\n",
       "      <td>25</td>\n",
       "      <td>265.1</td>\n",
       "      <td>110</td>\n",
       "      <td>45.07</td>\n",
       "      <td>197.4</td>\n",
       "      <td>99</td>\n",
       "      <td>16.78</td>\n",
       "      <td>244.7</td>\n",
       "      <td>91</td>\n",
       "      <td>11.01</td>\n",
       "      <td>10.0</td>\n",
       "      <td>3</td>\n",
       "      <td>2.70</td>\n",
       "      <td>1</td>\n",
       "      <td>False</td>\n",
       "    </tr>\n",
       "    <tr>\n",
       "      <th>1</th>\n",
       "      <td>OH</td>\n",
       "      <td>107</td>\n",
       "      <td>415</td>\n",
       "      <td>No</td>\n",
       "      <td>Yes</td>\n",
       "      <td>26</td>\n",
       "      <td>161.6</td>\n",
       "      <td>123</td>\n",
       "      <td>27.47</td>\n",
       "      <td>195.5</td>\n",
       "      <td>103</td>\n",
       "      <td>16.62</td>\n",
       "      <td>254.4</td>\n",
       "      <td>103</td>\n",
       "      <td>11.45</td>\n",
       "      <td>13.7</td>\n",
       "      <td>3</td>\n",
       "      <td>3.70</td>\n",
       "      <td>1</td>\n",
       "      <td>False</td>\n",
       "    </tr>\n",
       "    <tr>\n",
       "      <th>2</th>\n",
       "      <td>NJ</td>\n",
       "      <td>137</td>\n",
       "      <td>415</td>\n",
       "      <td>No</td>\n",
       "      <td>No</td>\n",
       "      <td>0</td>\n",
       "      <td>243.4</td>\n",
       "      <td>114</td>\n",
       "      <td>41.38</td>\n",
       "      <td>121.2</td>\n",
       "      <td>110</td>\n",
       "      <td>10.30</td>\n",
       "      <td>162.6</td>\n",
       "      <td>104</td>\n",
       "      <td>7.32</td>\n",
       "      <td>12.2</td>\n",
       "      <td>5</td>\n",
       "      <td>3.29</td>\n",
       "      <td>0</td>\n",
       "      <td>False</td>\n",
       "    </tr>\n",
       "    <tr>\n",
       "      <th>3</th>\n",
       "      <td>OH</td>\n",
       "      <td>84</td>\n",
       "      <td>408</td>\n",
       "      <td>Yes</td>\n",
       "      <td>No</td>\n",
       "      <td>0</td>\n",
       "      <td>299.4</td>\n",
       "      <td>71</td>\n",
       "      <td>50.90</td>\n",
       "      <td>61.9</td>\n",
       "      <td>88</td>\n",
       "      <td>5.26</td>\n",
       "      <td>196.9</td>\n",
       "      <td>89</td>\n",
       "      <td>8.86</td>\n",
       "      <td>6.6</td>\n",
       "      <td>7</td>\n",
       "      <td>1.78</td>\n",
       "      <td>2</td>\n",
       "      <td>False</td>\n",
       "    </tr>\n",
       "    <tr>\n",
       "      <th>4</th>\n",
       "      <td>OK</td>\n",
       "      <td>75</td>\n",
       "      <td>415</td>\n",
       "      <td>Yes</td>\n",
       "      <td>No</td>\n",
       "      <td>0</td>\n",
       "      <td>166.7</td>\n",
       "      <td>113</td>\n",
       "      <td>28.34</td>\n",
       "      <td>148.3</td>\n",
       "      <td>122</td>\n",
       "      <td>12.61</td>\n",
       "      <td>186.9</td>\n",
       "      <td>121</td>\n",
       "      <td>8.41</td>\n",
       "      <td>10.1</td>\n",
       "      <td>3</td>\n",
       "      <td>2.73</td>\n",
       "      <td>3</td>\n",
       "      <td>False</td>\n",
       "    </tr>\n",
       "  </tbody>\n",
       "</table>\n",
       "</div>"
      ],
      "text/plain": [
       "  State  Account length  Area code International plan Voice mail plan  \\\n",
       "0    KS             128        415                 No             Yes   \n",
       "1    OH             107        415                 No             Yes   \n",
       "2    NJ             137        415                 No              No   \n",
       "3    OH              84        408                Yes              No   \n",
       "4    OK              75        415                Yes              No   \n",
       "\n",
       "   Number vmail messages  Total day minutes  Total day calls  \\\n",
       "0                     25              265.1              110   \n",
       "1                     26              161.6              123   \n",
       "2                      0              243.4              114   \n",
       "3                      0              299.4               71   \n",
       "4                      0              166.7              113   \n",
       "\n",
       "   Total day charge  Total eve minutes  Total eve calls  Total eve charge  \\\n",
       "0             45.07              197.4               99             16.78   \n",
       "1             27.47              195.5              103             16.62   \n",
       "2             41.38              121.2              110             10.30   \n",
       "3             50.90               61.9               88              5.26   \n",
       "4             28.34              148.3              122             12.61   \n",
       "\n",
       "   Total night minutes  Total night calls  Total night charge  \\\n",
       "0                244.7                 91               11.01   \n",
       "1                254.4                103               11.45   \n",
       "2                162.6                104                7.32   \n",
       "3                196.9                 89                8.86   \n",
       "4                186.9                121                8.41   \n",
       "\n",
       "   Total intl minutes  Total intl calls  Total intl charge  \\\n",
       "0                10.0                 3               2.70   \n",
       "1                13.7                 3               3.70   \n",
       "2                12.2                 5               3.29   \n",
       "3                 6.6                 7               1.78   \n",
       "4                10.1                 3               2.73   \n",
       "\n",
       "   Customer service calls  Churn  \n",
       "0                       1  False  \n",
       "1                       1  False  \n",
       "2                       0  False  \n",
       "3                       2  False  \n",
       "4                       3  False  "
      ]
     },
     "execution_count": 30,
     "metadata": {},
     "output_type": "execute_result"
    }
   ],
   "source": [
    "df = pd.read_excel('telecom_churn.xlsx')\n",
    "df.head()"
   ]
  },
  {
   "cell_type": "code",
   "execution_count": 31,
   "id": "ace5105d-1835-4c30-bb92-f358ab6a8962",
   "metadata": {},
   "outputs": [
    {
     "name": "stdout",
     "output_type": "stream",
     "text": [
      "<class 'pandas.core.frame.DataFrame'>\n",
      "RangeIndex: 3333 entries, 0 to 3332\n",
      "Data columns (total 20 columns):\n",
      " #   Column                  Non-Null Count  Dtype  \n",
      "---  ------                  --------------  -----  \n",
      " 0   State                   3333 non-null   object \n",
      " 1   Account length          3333 non-null   int64  \n",
      " 2   Area code               3333 non-null   int64  \n",
      " 3   International plan      3333 non-null   object \n",
      " 4   Voice mail plan         3333 non-null   object \n",
      " 5   Number vmail messages   3333 non-null   int64  \n",
      " 6   Total day minutes       3333 non-null   float64\n",
      " 7   Total day calls         3333 non-null   int64  \n",
      " 8   Total day charge        3333 non-null   float64\n",
      " 9   Total eve minutes       3333 non-null   float64\n",
      " 10  Total eve calls         3333 non-null   int64  \n",
      " 11  Total eve charge        3333 non-null   float64\n",
      " 12  Total night minutes     3333 non-null   float64\n",
      " 13  Total night calls       3333 non-null   int64  \n",
      " 14  Total night charge      3333 non-null   float64\n",
      " 15  Total intl minutes      3333 non-null   float64\n",
      " 16  Total intl calls        3333 non-null   int64  \n",
      " 17  Total intl charge       3333 non-null   float64\n",
      " 18  Customer service calls  3333 non-null   int64  \n",
      " 19  Churn                   3333 non-null   bool   \n",
      "dtypes: bool(1), float64(8), int64(8), object(3)\n",
      "memory usage: 498.1+ KB\n"
     ]
    }
   ],
   "source": [
    "df.info()"
   ]
  },
  {
   "cell_type": "code",
   "execution_count": 32,
   "id": "9167f4ff-a7d9-4581-98eb-8e1f484619a0",
   "metadata": {},
   "outputs": [],
   "source": [
    "df = df.drop(columns='State')"
   ]
  },
  {
   "cell_type": "code",
   "execution_count": 33,
   "id": "56edf816-809c-4a8d-80d7-65491581cacb",
   "metadata": {},
   "outputs": [],
   "source": [
    "df['International plan'] = df['International plan'].map({'Yes':1, 'No':0})\n",
    "df['Voice mail plan'] = df['Voice mail plan'].map({'Yes':1, 'No':0})"
   ]
  },
  {
   "cell_type": "code",
   "execution_count": 34,
   "id": "1203c50a-adde-4fb5-aaa2-646042e1b474",
   "metadata": {},
   "outputs": [],
   "source": [
    "df['Churn'] = df['Churn'].map({True:1, False:0})"
   ]
  },
  {
   "cell_type": "code",
   "execution_count": 35,
   "id": "f1fa95a9-aad9-4adc-af05-4edad44b0cbc",
   "metadata": {},
   "outputs": [],
   "source": [
    "X = df.copy()\n",
    "X.pop('Churn')\n",
    "y = df['Churn']"
   ]
  },
  {
   "cell_type": "code",
   "execution_count": 36,
   "id": "8df31c1d-653d-47ac-9df3-3d0e70b158d7",
   "metadata": {},
   "outputs": [],
   "source": [
    "from sklearn.model_selection import train_test_split"
   ]
  },
  {
   "cell_type": "code",
   "execution_count": 100,
   "id": "32247179-f96d-4a60-aeb0-3bcfff18c1f8",
   "metadata": {},
   "outputs": [],
   "source": [
    "X_train, X_test, y_train, y_test = train_test_split(X,y,test_size=0.22)"
   ]
  },
  {
   "cell_type": "code",
   "execution_count": 38,
   "id": "b2469518-b1bc-4a56-a1c9-8fd1a1e66a6b",
   "metadata": {},
   "outputs": [],
   "source": [
    "from sklearn.linear_model import LogisticRegression"
   ]
  },
  {
   "cell_type": "code",
   "execution_count": 101,
   "id": "8722e243-e41d-4896-b7cc-10aff213de81",
   "metadata": {},
   "outputs": [
    {
     "data": {
      "text/html": [
       "<style>#sk-container-id-15 {color: black;}#sk-container-id-15 pre{padding: 0;}#sk-container-id-15 div.sk-toggleable {background-color: white;}#sk-container-id-15 label.sk-toggleable__label {cursor: pointer;display: block;width: 100%;margin-bottom: 0;padding: 0.3em;box-sizing: border-box;text-align: center;}#sk-container-id-15 label.sk-toggleable__label-arrow:before {content: \"▸\";float: left;margin-right: 0.25em;color: #696969;}#sk-container-id-15 label.sk-toggleable__label-arrow:hover:before {color: black;}#sk-container-id-15 div.sk-estimator:hover label.sk-toggleable__label-arrow:before {color: black;}#sk-container-id-15 div.sk-toggleable__content {max-height: 0;max-width: 0;overflow: hidden;text-align: left;background-color: #f0f8ff;}#sk-container-id-15 div.sk-toggleable__content pre {margin: 0.2em;color: black;border-radius: 0.25em;background-color: #f0f8ff;}#sk-container-id-15 input.sk-toggleable__control:checked~div.sk-toggleable__content {max-height: 200px;max-width: 100%;overflow: auto;}#sk-container-id-15 input.sk-toggleable__control:checked~label.sk-toggleable__label-arrow:before {content: \"▾\";}#sk-container-id-15 div.sk-estimator input.sk-toggleable__control:checked~label.sk-toggleable__label {background-color: #d4ebff;}#sk-container-id-15 div.sk-label input.sk-toggleable__control:checked~label.sk-toggleable__label {background-color: #d4ebff;}#sk-container-id-15 input.sk-hidden--visually {border: 0;clip: rect(1px 1px 1px 1px);clip: rect(1px, 1px, 1px, 1px);height: 1px;margin: -1px;overflow: hidden;padding: 0;position: absolute;width: 1px;}#sk-container-id-15 div.sk-estimator {font-family: monospace;background-color: #f0f8ff;border: 1px dotted black;border-radius: 0.25em;box-sizing: border-box;margin-bottom: 0.5em;}#sk-container-id-15 div.sk-estimator:hover {background-color: #d4ebff;}#sk-container-id-15 div.sk-parallel-item::after {content: \"\";width: 100%;border-bottom: 1px solid gray;flex-grow: 1;}#sk-container-id-15 div.sk-label:hover label.sk-toggleable__label {background-color: #d4ebff;}#sk-container-id-15 div.sk-serial::before {content: \"\";position: absolute;border-left: 1px solid gray;box-sizing: border-box;top: 0;bottom: 0;left: 50%;z-index: 0;}#sk-container-id-15 div.sk-serial {display: flex;flex-direction: column;align-items: center;background-color: white;padding-right: 0.2em;padding-left: 0.2em;position: relative;}#sk-container-id-15 div.sk-item {position: relative;z-index: 1;}#sk-container-id-15 div.sk-parallel {display: flex;align-items: stretch;justify-content: center;background-color: white;position: relative;}#sk-container-id-15 div.sk-item::before, #sk-container-id-15 div.sk-parallel-item::before {content: \"\";position: absolute;border-left: 1px solid gray;box-sizing: border-box;top: 0;bottom: 0;left: 50%;z-index: -1;}#sk-container-id-15 div.sk-parallel-item {display: flex;flex-direction: column;z-index: 1;position: relative;background-color: white;}#sk-container-id-15 div.sk-parallel-item:first-child::after {align-self: flex-end;width: 50%;}#sk-container-id-15 div.sk-parallel-item:last-child::after {align-self: flex-start;width: 50%;}#sk-container-id-15 div.sk-parallel-item:only-child::after {width: 0;}#sk-container-id-15 div.sk-dashed-wrapped {border: 1px dashed gray;margin: 0 0.4em 0.5em 0.4em;box-sizing: border-box;padding-bottom: 0.4em;background-color: white;}#sk-container-id-15 div.sk-label label {font-family: monospace;font-weight: bold;display: inline-block;line-height: 1.2em;}#sk-container-id-15 div.sk-label-container {text-align: center;}#sk-container-id-15 div.sk-container {/* jupyter's `normalize.less` sets `[hidden] { display: none; }` but bootstrap.min.css set `[hidden] { display: none !important; }` so we also need the `!important` here to be able to override the default hidden behavior on the sphinx rendered scikit-learn.org. See: https://github.com/scikit-learn/scikit-learn/issues/21755 */display: inline-block !important;position: relative;}#sk-container-id-15 div.sk-text-repr-fallback {display: none;}</style><div id=\"sk-container-id-15\" class=\"sk-top-container\"><div class=\"sk-text-repr-fallback\"><pre>LogisticRegression(max_iter=10000)</pre><b>In a Jupyter environment, please rerun this cell to show the HTML representation or trust the notebook. <br />On GitHub, the HTML representation is unable to render, please try loading this page with nbviewer.org.</b></div><div class=\"sk-container\" hidden><div class=\"sk-item\"><div class=\"sk-estimator sk-toggleable\"><input class=\"sk-toggleable__control sk-hidden--visually\" id=\"sk-estimator-id-15\" type=\"checkbox\" checked><label for=\"sk-estimator-id-15\" class=\"sk-toggleable__label sk-toggleable__label-arrow\">LogisticRegression</label><div class=\"sk-toggleable__content\"><pre>LogisticRegression(max_iter=10000)</pre></div></div></div></div></div>"
      ],
      "text/plain": [
       "LogisticRegression(max_iter=10000)"
      ]
     },
     "execution_count": 101,
     "metadata": {},
     "output_type": "execute_result"
    }
   ],
   "source": [
    "model = LogisticRegression(max_iter=10000)\n",
    "model.fit(X_train, y_train)"
   ]
  },
  {
   "cell_type": "code",
   "execution_count": 102,
   "id": "3c7f8b84-c0bf-42f7-9bfc-eaec966faa3a",
   "metadata": {},
   "outputs": [
    {
     "data": {
      "text/plain": [
       "0.8595613697575991"
      ]
     },
     "execution_count": 102,
     "metadata": {},
     "output_type": "execute_result"
    }
   ],
   "source": [
    "model.score(X_train, y_train)"
   ]
  },
  {
   "cell_type": "code",
   "execution_count": 103,
   "id": "07a4a9a5-cedb-426a-9d09-d86757d5d620",
   "metadata": {},
   "outputs": [
    {
     "data": {
      "text/plain": [
       "0.8828337874659401"
      ]
     },
     "execution_count": 103,
     "metadata": {},
     "output_type": "execute_result"
    }
   ],
   "source": [
    "model.score(X_test, y_test)"
   ]
  },
  {
   "cell_type": "markdown",
   "id": "4f93e4c6-7e5c-414d-9631-3cbacb6e09e8",
   "metadata": {},
   "source": [
    "### Prediction"
   ]
  },
  {
   "cell_type": "code",
   "execution_count": 104,
   "id": "e5053d56-89d3-449a-b51e-d52c8e041ff3",
   "metadata": {},
   "outputs": [],
   "source": [
    "y_predicted = model.predict(X_test)"
   ]
  },
  {
   "cell_type": "code",
   "execution_count": 105,
   "id": "26d1b76f-fe8a-4031-9147-951f595302e6",
   "metadata": {},
   "outputs": [],
   "source": [
    "X_new = X_test.copy()"
   ]
  },
  {
   "cell_type": "code",
   "execution_count": 106,
   "id": "f0504ab5-1f17-4fc6-8497-d705147535a6",
   "metadata": {},
   "outputs": [],
   "source": [
    "X_new['Churn Prediction'] = y_predicted"
   ]
  },
  {
   "cell_type": "code",
   "execution_count": 107,
   "id": "18571c31-4162-4eb7-9431-580646f81d55",
   "metadata": {},
   "outputs": [],
   "source": [
    "df_1 = X_new[X_new['Churn Prediction'] == 1 ]\n",
    "df_0 = X_new[X_new['Churn Prediction'] == 0 ]"
   ]
  },
  {
   "cell_type": "code",
   "execution_count": 108,
   "id": "905fd04e-f799-4712-b16f-08140f9e5434",
   "metadata": {},
   "outputs": [
    {
     "data": {
      "text/html": [
       "<div>\n",
       "<style scoped>\n",
       "    .dataframe tbody tr th:only-of-type {\n",
       "        vertical-align: middle;\n",
       "    }\n",
       "\n",
       "    .dataframe tbody tr th {\n",
       "        vertical-align: top;\n",
       "    }\n",
       "\n",
       "    .dataframe thead th {\n",
       "        text-align: right;\n",
       "    }\n",
       "</style>\n",
       "<table border=\"1\" class=\"dataframe\">\n",
       "  <thead>\n",
       "    <tr style=\"text-align: right;\">\n",
       "      <th></th>\n",
       "      <th>Account length</th>\n",
       "      <th>Area code</th>\n",
       "      <th>International plan</th>\n",
       "      <th>Voice mail plan</th>\n",
       "      <th>Number vmail messages</th>\n",
       "      <th>Total day minutes</th>\n",
       "      <th>Total day calls</th>\n",
       "      <th>Total day charge</th>\n",
       "      <th>Total eve minutes</th>\n",
       "      <th>Total eve calls</th>\n",
       "      <th>Total eve charge</th>\n",
       "      <th>Total night minutes</th>\n",
       "      <th>Total night calls</th>\n",
       "      <th>Total night charge</th>\n",
       "      <th>Total intl minutes</th>\n",
       "      <th>Total intl calls</th>\n",
       "      <th>Total intl charge</th>\n",
       "      <th>Customer service calls</th>\n",
       "      <th>Churn Prediction</th>\n",
       "    </tr>\n",
       "  </thead>\n",
       "  <tbody>\n",
       "    <tr>\n",
       "      <th>count</th>\n",
       "      <td>37.000000</td>\n",
       "      <td>37.000000</td>\n",
       "      <td>37.000000</td>\n",
       "      <td>37.000000</td>\n",
       "      <td>37.000000</td>\n",
       "      <td>37.000000</td>\n",
       "      <td>37.000000</td>\n",
       "      <td>37.000000</td>\n",
       "      <td>37.000000</td>\n",
       "      <td>37.000000</td>\n",
       "      <td>37.000000</td>\n",
       "      <td>37.000000</td>\n",
       "      <td>37.000000</td>\n",
       "      <td>37.000000</td>\n",
       "      <td>37.000000</td>\n",
       "      <td>37.000000</td>\n",
       "      <td>37.000000</td>\n",
       "      <td>37.000000</td>\n",
       "      <td>37.0</td>\n",
       "    </tr>\n",
       "    <tr>\n",
       "      <th>mean</th>\n",
       "      <td>104.918919</td>\n",
       "      <td>449.621622</td>\n",
       "      <td>0.540541</td>\n",
       "      <td>0.108108</td>\n",
       "      <td>3.702703</td>\n",
       "      <td>231.500000</td>\n",
       "      <td>100.621622</td>\n",
       "      <td>39.355946</td>\n",
       "      <td>223.943243</td>\n",
       "      <td>100.162162</td>\n",
       "      <td>19.035405</td>\n",
       "      <td>215.529730</td>\n",
       "      <td>102.648649</td>\n",
       "      <td>9.698649</td>\n",
       "      <td>11.908108</td>\n",
       "      <td>4.459459</td>\n",
       "      <td>3.215676</td>\n",
       "      <td>3.081081</td>\n",
       "      <td>1.0</td>\n",
       "    </tr>\n",
       "    <tr>\n",
       "      <th>std</th>\n",
       "      <td>31.234221</td>\n",
       "      <td>47.825697</td>\n",
       "      <td>0.505228</td>\n",
       "      <td>0.314800</td>\n",
       "      <td>10.946498</td>\n",
       "      <td>49.941916</td>\n",
       "      <td>19.979644</td>\n",
       "      <td>8.490643</td>\n",
       "      <td>35.968501</td>\n",
       "      <td>19.334071</td>\n",
       "      <td>3.057241</td>\n",
       "      <td>51.125422</td>\n",
       "      <td>17.567673</td>\n",
       "      <td>2.300979</td>\n",
       "      <td>2.604204</td>\n",
       "      <td>2.218540</td>\n",
       "      <td>0.703754</td>\n",
       "      <td>1.861576</td>\n",
       "      <td>0.0</td>\n",
       "    </tr>\n",
       "    <tr>\n",
       "      <th>min</th>\n",
       "      <td>44.000000</td>\n",
       "      <td>408.000000</td>\n",
       "      <td>0.000000</td>\n",
       "      <td>0.000000</td>\n",
       "      <td>0.000000</td>\n",
       "      <td>148.200000</td>\n",
       "      <td>55.000000</td>\n",
       "      <td>25.190000</td>\n",
       "      <td>105.600000</td>\n",
       "      <td>46.000000</td>\n",
       "      <td>8.980000</td>\n",
       "      <td>72.400000</td>\n",
       "      <td>63.000000</td>\n",
       "      <td>3.260000</td>\n",
       "      <td>6.000000</td>\n",
       "      <td>1.000000</td>\n",
       "      <td>1.620000</td>\n",
       "      <td>0.000000</td>\n",
       "      <td>1.0</td>\n",
       "    </tr>\n",
       "    <tr>\n",
       "      <th>25%</th>\n",
       "      <td>80.000000</td>\n",
       "      <td>415.000000</td>\n",
       "      <td>0.000000</td>\n",
       "      <td>0.000000</td>\n",
       "      <td>0.000000</td>\n",
       "      <td>198.800000</td>\n",
       "      <td>89.000000</td>\n",
       "      <td>33.800000</td>\n",
       "      <td>205.000000</td>\n",
       "      <td>90.000000</td>\n",
       "      <td>17.430000</td>\n",
       "      <td>180.500000</td>\n",
       "      <td>90.000000</td>\n",
       "      <td>8.120000</td>\n",
       "      <td>10.200000</td>\n",
       "      <td>3.000000</td>\n",
       "      <td>2.750000</td>\n",
       "      <td>2.000000</td>\n",
       "      <td>1.0</td>\n",
       "    </tr>\n",
       "    <tr>\n",
       "      <th>50%</th>\n",
       "      <td>109.000000</td>\n",
       "      <td>415.000000</td>\n",
       "      <td>1.000000</td>\n",
       "      <td>0.000000</td>\n",
       "      <td>0.000000</td>\n",
       "      <td>230.500000</td>\n",
       "      <td>102.000000</td>\n",
       "      <td>39.190000</td>\n",
       "      <td>223.200000</td>\n",
       "      <td>101.000000</td>\n",
       "      <td>18.970000</td>\n",
       "      <td>211.500000</td>\n",
       "      <td>104.000000</td>\n",
       "      <td>9.520000</td>\n",
       "      <td>11.900000</td>\n",
       "      <td>4.000000</td>\n",
       "      <td>3.210000</td>\n",
       "      <td>3.000000</td>\n",
       "      <td>1.0</td>\n",
       "    </tr>\n",
       "    <tr>\n",
       "      <th>75%</th>\n",
       "      <td>126.000000</td>\n",
       "      <td>510.000000</td>\n",
       "      <td>1.000000</td>\n",
       "      <td>0.000000</td>\n",
       "      <td>0.000000</td>\n",
       "      <td>272.500000</td>\n",
       "      <td>112.000000</td>\n",
       "      <td>46.330000</td>\n",
       "      <td>251.300000</td>\n",
       "      <td>114.000000</td>\n",
       "      <td>21.360000</td>\n",
       "      <td>258.200000</td>\n",
       "      <td>116.000000</td>\n",
       "      <td>11.620000</td>\n",
       "      <td>13.900000</td>\n",
       "      <td>6.000000</td>\n",
       "      <td>3.750000</td>\n",
       "      <td>4.000000</td>\n",
       "      <td>1.0</td>\n",
       "    </tr>\n",
       "    <tr>\n",
       "      <th>max</th>\n",
       "      <td>172.000000</td>\n",
       "      <td>510.000000</td>\n",
       "      <td>1.000000</td>\n",
       "      <td>1.000000</td>\n",
       "      <td>42.000000</td>\n",
       "      <td>346.800000</td>\n",
       "      <td>141.000000</td>\n",
       "      <td>58.960000</td>\n",
       "      <td>286.200000</td>\n",
       "      <td>140.000000</td>\n",
       "      <td>24.330000</td>\n",
       "      <td>298.200000</td>\n",
       "      <td>136.000000</td>\n",
       "      <td>13.420000</td>\n",
       "      <td>17.800000</td>\n",
       "      <td>10.000000</td>\n",
       "      <td>4.810000</td>\n",
       "      <td>8.000000</td>\n",
       "      <td>1.0</td>\n",
       "    </tr>\n",
       "  </tbody>\n",
       "</table>\n",
       "</div>"
      ],
      "text/plain": [
       "       Account length   Area code  International plan  Voice mail plan  \\\n",
       "count       37.000000   37.000000           37.000000        37.000000   \n",
       "mean       104.918919  449.621622            0.540541         0.108108   \n",
       "std         31.234221   47.825697            0.505228         0.314800   \n",
       "min         44.000000  408.000000            0.000000         0.000000   \n",
       "25%         80.000000  415.000000            0.000000         0.000000   \n",
       "50%        109.000000  415.000000            1.000000         0.000000   \n",
       "75%        126.000000  510.000000            1.000000         0.000000   \n",
       "max        172.000000  510.000000            1.000000         1.000000   \n",
       "\n",
       "       Number vmail messages  Total day minutes  Total day calls  \\\n",
       "count              37.000000          37.000000        37.000000   \n",
       "mean                3.702703         231.500000       100.621622   \n",
       "std                10.946498          49.941916        19.979644   \n",
       "min                 0.000000         148.200000        55.000000   \n",
       "25%                 0.000000         198.800000        89.000000   \n",
       "50%                 0.000000         230.500000       102.000000   \n",
       "75%                 0.000000         272.500000       112.000000   \n",
       "max                42.000000         346.800000       141.000000   \n",
       "\n",
       "       Total day charge  Total eve minutes  Total eve calls  Total eve charge  \\\n",
       "count         37.000000          37.000000        37.000000         37.000000   \n",
       "mean          39.355946         223.943243       100.162162         19.035405   \n",
       "std            8.490643          35.968501        19.334071          3.057241   \n",
       "min           25.190000         105.600000        46.000000          8.980000   \n",
       "25%           33.800000         205.000000        90.000000         17.430000   \n",
       "50%           39.190000         223.200000       101.000000         18.970000   \n",
       "75%           46.330000         251.300000       114.000000         21.360000   \n",
       "max           58.960000         286.200000       140.000000         24.330000   \n",
       "\n",
       "       Total night minutes  Total night calls  Total night charge  \\\n",
       "count            37.000000          37.000000           37.000000   \n",
       "mean            215.529730         102.648649            9.698649   \n",
       "std              51.125422          17.567673            2.300979   \n",
       "min              72.400000          63.000000            3.260000   \n",
       "25%             180.500000          90.000000            8.120000   \n",
       "50%             211.500000         104.000000            9.520000   \n",
       "75%             258.200000         116.000000           11.620000   \n",
       "max             298.200000         136.000000           13.420000   \n",
       "\n",
       "       Total intl minutes  Total intl calls  Total intl charge  \\\n",
       "count           37.000000         37.000000          37.000000   \n",
       "mean            11.908108          4.459459           3.215676   \n",
       "std              2.604204          2.218540           0.703754   \n",
       "min              6.000000          1.000000           1.620000   \n",
       "25%             10.200000          3.000000           2.750000   \n",
       "50%             11.900000          4.000000           3.210000   \n",
       "75%             13.900000          6.000000           3.750000   \n",
       "max             17.800000         10.000000           4.810000   \n",
       "\n",
       "       Customer service calls  Churn Prediction  \n",
       "count               37.000000              37.0  \n",
       "mean                 3.081081               1.0  \n",
       "std                  1.861576               0.0  \n",
       "min                  0.000000               1.0  \n",
       "25%                  2.000000               1.0  \n",
       "50%                  3.000000               1.0  \n",
       "75%                  4.000000               1.0  \n",
       "max                  8.000000               1.0  "
      ]
     },
     "execution_count": 108,
     "metadata": {},
     "output_type": "execute_result"
    }
   ],
   "source": [
    "df_1.describe()"
   ]
  },
  {
   "cell_type": "code",
   "execution_count": 109,
   "id": "34eb2713-485c-47d2-9852-ba72bc26ae01",
   "metadata": {},
   "outputs": [
    {
     "data": {
      "text/html": [
       "<div>\n",
       "<style scoped>\n",
       "    .dataframe tbody tr th:only-of-type {\n",
       "        vertical-align: middle;\n",
       "    }\n",
       "\n",
       "    .dataframe tbody tr th {\n",
       "        vertical-align: top;\n",
       "    }\n",
       "\n",
       "    .dataframe thead th {\n",
       "        text-align: right;\n",
       "    }\n",
       "</style>\n",
       "<table border=\"1\" class=\"dataframe\">\n",
       "  <thead>\n",
       "    <tr style=\"text-align: right;\">\n",
       "      <th></th>\n",
       "      <th>Account length</th>\n",
       "      <th>Area code</th>\n",
       "      <th>International plan</th>\n",
       "      <th>Voice mail plan</th>\n",
       "      <th>Number vmail messages</th>\n",
       "      <th>Total day minutes</th>\n",
       "      <th>Total day calls</th>\n",
       "      <th>Total day charge</th>\n",
       "      <th>Total eve minutes</th>\n",
       "      <th>Total eve calls</th>\n",
       "      <th>Total eve charge</th>\n",
       "      <th>Total night minutes</th>\n",
       "      <th>Total night calls</th>\n",
       "      <th>Total night charge</th>\n",
       "      <th>Total intl minutes</th>\n",
       "      <th>Total intl calls</th>\n",
       "      <th>Total intl charge</th>\n",
       "      <th>Customer service calls</th>\n",
       "      <th>Churn Prediction</th>\n",
       "    </tr>\n",
       "  </thead>\n",
       "  <tbody>\n",
       "    <tr>\n",
       "      <th>count</th>\n",
       "      <td>697.000000</td>\n",
       "      <td>697.000000</td>\n",
       "      <td>697.000000</td>\n",
       "      <td>697.000000</td>\n",
       "      <td>697.000000</td>\n",
       "      <td>697.000000</td>\n",
       "      <td>697.000000</td>\n",
       "      <td>697.000000</td>\n",
       "      <td>697.000000</td>\n",
       "      <td>697.000000</td>\n",
       "      <td>697.000000</td>\n",
       "      <td>697.000000</td>\n",
       "      <td>697.000000</td>\n",
       "      <td>697.000000</td>\n",
       "      <td>697.000000</td>\n",
       "      <td>697.000000</td>\n",
       "      <td>697.000000</td>\n",
       "      <td>697.000000</td>\n",
       "      <td>697.0</td>\n",
       "    </tr>\n",
       "    <tr>\n",
       "      <th>mean</th>\n",
       "      <td>100.634146</td>\n",
       "      <td>436.978479</td>\n",
       "      <td>0.076040</td>\n",
       "      <td>0.295552</td>\n",
       "      <td>8.905308</td>\n",
       "      <td>177.077618</td>\n",
       "      <td>100.317073</td>\n",
       "      <td>30.103874</td>\n",
       "      <td>197.333716</td>\n",
       "      <td>100.424677</td>\n",
       "      <td>16.773544</td>\n",
       "      <td>204.028264</td>\n",
       "      <td>100.566714</td>\n",
       "      <td>9.181306</td>\n",
       "      <td>9.942181</td>\n",
       "      <td>4.523673</td>\n",
       "      <td>2.684950</td>\n",
       "      <td>1.420373</td>\n",
       "      <td>0.0</td>\n",
       "    </tr>\n",
       "    <tr>\n",
       "      <th>std</th>\n",
       "      <td>40.850683</td>\n",
       "      <td>42.245497</td>\n",
       "      <td>0.265253</td>\n",
       "      <td>0.456618</td>\n",
       "      <td>14.395369</td>\n",
       "      <td>53.603495</td>\n",
       "      <td>20.214757</td>\n",
       "      <td>9.112435</td>\n",
       "      <td>47.639618</td>\n",
       "      <td>20.785588</td>\n",
       "      <td>4.049392</td>\n",
       "      <td>48.505227</td>\n",
       "      <td>19.294122</td>\n",
       "      <td>2.182863</td>\n",
       "      <td>2.889701</td>\n",
       "      <td>2.602458</td>\n",
       "      <td>0.780173</td>\n",
       "      <td>1.211671</td>\n",
       "      <td>0.0</td>\n",
       "    </tr>\n",
       "    <tr>\n",
       "      <th>min</th>\n",
       "      <td>1.000000</td>\n",
       "      <td>408.000000</td>\n",
       "      <td>0.000000</td>\n",
       "      <td>0.000000</td>\n",
       "      <td>0.000000</td>\n",
       "      <td>7.800000</td>\n",
       "      <td>35.000000</td>\n",
       "      <td>1.330000</td>\n",
       "      <td>42.500000</td>\n",
       "      <td>48.000000</td>\n",
       "      <td>3.610000</td>\n",
       "      <td>54.500000</td>\n",
       "      <td>44.000000</td>\n",
       "      <td>2.450000</td>\n",
       "      <td>0.000000</td>\n",
       "      <td>0.000000</td>\n",
       "      <td>0.000000</td>\n",
       "      <td>0.000000</td>\n",
       "      <td>0.0</td>\n",
       "    </tr>\n",
       "    <tr>\n",
       "      <th>25%</th>\n",
       "      <td>73.000000</td>\n",
       "      <td>415.000000</td>\n",
       "      <td>0.000000</td>\n",
       "      <td>0.000000</td>\n",
       "      <td>0.000000</td>\n",
       "      <td>141.900000</td>\n",
       "      <td>87.000000</td>\n",
       "      <td>24.120000</td>\n",
       "      <td>164.800000</td>\n",
       "      <td>87.000000</td>\n",
       "      <td>14.010000</td>\n",
       "      <td>171.800000</td>\n",
       "      <td>88.000000</td>\n",
       "      <td>7.730000</td>\n",
       "      <td>8.100000</td>\n",
       "      <td>3.000000</td>\n",
       "      <td>2.190000</td>\n",
       "      <td>1.000000</td>\n",
       "      <td>0.0</td>\n",
       "    </tr>\n",
       "    <tr>\n",
       "      <th>50%</th>\n",
       "      <td>101.000000</td>\n",
       "      <td>415.000000</td>\n",
       "      <td>0.000000</td>\n",
       "      <td>0.000000</td>\n",
       "      <td>0.000000</td>\n",
       "      <td>177.100000</td>\n",
       "      <td>100.000000</td>\n",
       "      <td>30.110000</td>\n",
       "      <td>197.900000</td>\n",
       "      <td>100.000000</td>\n",
       "      <td>16.820000</td>\n",
       "      <td>206.600000</td>\n",
       "      <td>100.000000</td>\n",
       "      <td>9.300000</td>\n",
       "      <td>10.000000</td>\n",
       "      <td>4.000000</td>\n",
       "      <td>2.700000</td>\n",
       "      <td>1.000000</td>\n",
       "      <td>0.0</td>\n",
       "    </tr>\n",
       "    <tr>\n",
       "      <th>75%</th>\n",
       "      <td>127.000000</td>\n",
       "      <td>415.000000</td>\n",
       "      <td>0.000000</td>\n",
       "      <td>1.000000</td>\n",
       "      <td>22.000000</td>\n",
       "      <td>212.100000</td>\n",
       "      <td>114.000000</td>\n",
       "      <td>36.060000</td>\n",
       "      <td>228.000000</td>\n",
       "      <td>114.000000</td>\n",
       "      <td>19.380000</td>\n",
       "      <td>233.600000</td>\n",
       "      <td>114.000000</td>\n",
       "      <td>10.510000</td>\n",
       "      <td>11.900000</td>\n",
       "      <td>6.000000</td>\n",
       "      <td>3.210000</td>\n",
       "      <td>2.000000</td>\n",
       "      <td>0.0</td>\n",
       "    </tr>\n",
       "    <tr>\n",
       "      <th>max</th>\n",
       "      <td>215.000000</td>\n",
       "      <td>510.000000</td>\n",
       "      <td>1.000000</td>\n",
       "      <td>1.000000</td>\n",
       "      <td>48.000000</td>\n",
       "      <td>350.800000</td>\n",
       "      <td>152.000000</td>\n",
       "      <td>59.640000</td>\n",
       "      <td>350.500000</td>\n",
       "      <td>168.000000</td>\n",
       "      <td>29.790000</td>\n",
       "      <td>377.500000</td>\n",
       "      <td>157.000000</td>\n",
       "      <td>16.990000</td>\n",
       "      <td>17.500000</td>\n",
       "      <td>18.000000</td>\n",
       "      <td>4.730000</td>\n",
       "      <td>7.000000</td>\n",
       "      <td>0.0</td>\n",
       "    </tr>\n",
       "  </tbody>\n",
       "</table>\n",
       "</div>"
      ],
      "text/plain": [
       "       Account length   Area code  International plan  Voice mail plan  \\\n",
       "count      697.000000  697.000000          697.000000       697.000000   \n",
       "mean       100.634146  436.978479            0.076040         0.295552   \n",
       "std         40.850683   42.245497            0.265253         0.456618   \n",
       "min          1.000000  408.000000            0.000000         0.000000   \n",
       "25%         73.000000  415.000000            0.000000         0.000000   \n",
       "50%        101.000000  415.000000            0.000000         0.000000   \n",
       "75%        127.000000  415.000000            0.000000         1.000000   \n",
       "max        215.000000  510.000000            1.000000         1.000000   \n",
       "\n",
       "       Number vmail messages  Total day minutes  Total day calls  \\\n",
       "count             697.000000         697.000000       697.000000   \n",
       "mean                8.905308         177.077618       100.317073   \n",
       "std                14.395369          53.603495        20.214757   \n",
       "min                 0.000000           7.800000        35.000000   \n",
       "25%                 0.000000         141.900000        87.000000   \n",
       "50%                 0.000000         177.100000       100.000000   \n",
       "75%                22.000000         212.100000       114.000000   \n",
       "max                48.000000         350.800000       152.000000   \n",
       "\n",
       "       Total day charge  Total eve minutes  Total eve calls  Total eve charge  \\\n",
       "count        697.000000         697.000000       697.000000        697.000000   \n",
       "mean          30.103874         197.333716       100.424677         16.773544   \n",
       "std            9.112435          47.639618        20.785588          4.049392   \n",
       "min            1.330000          42.500000        48.000000          3.610000   \n",
       "25%           24.120000         164.800000        87.000000         14.010000   \n",
       "50%           30.110000         197.900000       100.000000         16.820000   \n",
       "75%           36.060000         228.000000       114.000000         19.380000   \n",
       "max           59.640000         350.500000       168.000000         29.790000   \n",
       "\n",
       "       Total night minutes  Total night calls  Total night charge  \\\n",
       "count           697.000000         697.000000          697.000000   \n",
       "mean            204.028264         100.566714            9.181306   \n",
       "std              48.505227          19.294122            2.182863   \n",
       "min              54.500000          44.000000            2.450000   \n",
       "25%             171.800000          88.000000            7.730000   \n",
       "50%             206.600000         100.000000            9.300000   \n",
       "75%             233.600000         114.000000           10.510000   \n",
       "max             377.500000         157.000000           16.990000   \n",
       "\n",
       "       Total intl minutes  Total intl calls  Total intl charge  \\\n",
       "count          697.000000        697.000000         697.000000   \n",
       "mean             9.942181          4.523673           2.684950   \n",
       "std              2.889701          2.602458           0.780173   \n",
       "min              0.000000          0.000000           0.000000   \n",
       "25%              8.100000          3.000000           2.190000   \n",
       "50%             10.000000          4.000000           2.700000   \n",
       "75%             11.900000          6.000000           3.210000   \n",
       "max             17.500000         18.000000           4.730000   \n",
       "\n",
       "       Customer service calls  Churn Prediction  \n",
       "count              697.000000             697.0  \n",
       "mean                 1.420373               0.0  \n",
       "std                  1.211671               0.0  \n",
       "min                  0.000000               0.0  \n",
       "25%                  1.000000               0.0  \n",
       "50%                  1.000000               0.0  \n",
       "75%                  2.000000               0.0  \n",
       "max                  7.000000               0.0  "
      ]
     },
     "execution_count": 109,
     "metadata": {},
     "output_type": "execute_result"
    }
   ],
   "source": [
    "df_0.describe()"
   ]
  },
  {
   "cell_type": "code",
   "execution_count": 110,
   "id": "4ab3926a-faee-47f8-adcc-b6c5f6990b4f",
   "metadata": {},
   "outputs": [],
   "source": [
    "labels = list(df_1.columns)"
   ]
  },
  {
   "cell_type": "code",
   "execution_count": 111,
   "id": "d6875128-e021-4626-b831-f9c490ebd01d",
   "metadata": {},
   "outputs": [
    {
     "data": {
      "text/plain": [
       "['Account length',\n",
       " 'Area code',\n",
       " 'International plan',\n",
       " 'Voice mail plan',\n",
       " 'Number vmail messages',\n",
       " 'Total day minutes',\n",
       " 'Total day calls',\n",
       " 'Total day charge',\n",
       " 'Total eve minutes',\n",
       " 'Total eve calls',\n",
       " 'Total eve charge',\n",
       " 'Total night minutes',\n",
       " 'Total night calls',\n",
       " 'Total night charge',\n",
       " 'Total intl minutes',\n",
       " 'Total intl calls',\n",
       " 'Total intl charge',\n",
       " 'Customer service calls',\n",
       " 'Churn Prediction']"
      ]
     },
     "execution_count": 111,
     "metadata": {},
     "output_type": "execute_result"
    }
   ],
   "source": [
    "labels"
   ]
  },
  {
   "cell_type": "code",
   "execution_count": 112,
   "id": "5b056cf1-bccd-4889-bd0d-af577164372f",
   "metadata": {},
   "outputs": [],
   "source": [
    "list_1 = []\n",
    "for i in labels:\n",
    "    list_1.append(df_1[i].mean())"
   ]
  },
  {
   "cell_type": "code",
   "execution_count": 113,
   "id": "bc60441d-c41c-48ed-9385-52403eb2b10a",
   "metadata": {},
   "outputs": [],
   "source": [
    "list_0 = []\n",
    "for i in labels:\n",
    "    list_0.append(df_0[i].mean())"
   ]
  },
  {
   "cell_type": "code",
   "execution_count": 114,
   "id": "bc2d2fc2-5361-4d5a-aff1-71a65b08787e",
   "metadata": {},
   "outputs": [],
   "source": [
    "list_diff = []\n",
    "for i in range(len(list_0)):\n",
    "    list_diff.append(np.around((list_1[i] - list_0[i]) / list_1[i] *100,decimals = 1))"
   ]
  },
  {
   "cell_type": "code",
   "execution_count": 115,
   "id": "f58691a2-8964-41d9-a9f6-f861594a0b04",
   "metadata": {},
   "outputs": [
    {
     "data": {
      "text/plain": [
       "[4.1,\n",
       " 2.8,\n",
       " 85.9,\n",
       " -173.4,\n",
       " -140.5,\n",
       " 23.5,\n",
       " 0.3,\n",
       " 23.5,\n",
       " 11.9,\n",
       " -0.3,\n",
       " 11.9,\n",
       " 5.3,\n",
       " 2.0,\n",
       " 5.3,\n",
       " 16.5,\n",
       " -1.4,\n",
       " 16.5,\n",
       " 53.9,\n",
       " 100.0]"
      ]
     },
     "execution_count": 115,
     "metadata": {},
     "output_type": "execute_result"
    }
   ],
   "source": [
    "list_diff"
   ]
  },
  {
   "cell_type": "markdown",
   "id": "d2f873fb-b1ac-4234-bd58-4506913dd0be",
   "metadata": {},
   "source": [
    "### Gathering into one table "
   ]
  },
  {
   "cell_type": "code",
   "execution_count": 116,
   "id": "e7365153-2a26-43fa-957d-480f1dba5fef",
   "metadata": {},
   "outputs": [],
   "source": [
    "D = {'The label': labels,\n",
    "    'The ones who left': list_1,\n",
    "    'The ones who stayed': list_0,\n",
    "    'Difference': list_diff}"
   ]
  },
  {
   "cell_type": "code",
   "execution_count": 117,
   "id": "760d696c-6314-4fd2-b03f-cbc2272d438f",
   "metadata": {},
   "outputs": [],
   "source": [
    "analysis = pd.DataFrame.from_dict(D)"
   ]
  },
  {
   "cell_type": "code",
   "execution_count": 119,
   "id": "8ef88060-5208-4c24-a10a-bd215bcb265c",
   "metadata": {},
   "outputs": [
    {
     "data": {
      "text/html": [
       "<div>\n",
       "<style scoped>\n",
       "    .dataframe tbody tr th:only-of-type {\n",
       "        vertical-align: middle;\n",
       "    }\n",
       "\n",
       "    .dataframe tbody tr th {\n",
       "        vertical-align: top;\n",
       "    }\n",
       "\n",
       "    .dataframe thead th {\n",
       "        text-align: right;\n",
       "    }\n",
       "</style>\n",
       "<table border=\"1\" class=\"dataframe\">\n",
       "  <thead>\n",
       "    <tr style=\"text-align: right;\">\n",
       "      <th></th>\n",
       "      <th>The label</th>\n",
       "      <th>The ones who left</th>\n",
       "      <th>The ones who stayed</th>\n",
       "      <th>Difference</th>\n",
       "    </tr>\n",
       "  </thead>\n",
       "  <tbody>\n",
       "    <tr>\n",
       "      <th>0</th>\n",
       "      <td>Account length</td>\n",
       "      <td>104.918919</td>\n",
       "      <td>100.634146</td>\n",
       "      <td>4.1</td>\n",
       "    </tr>\n",
       "    <tr>\n",
       "      <th>1</th>\n",
       "      <td>Area code</td>\n",
       "      <td>449.621622</td>\n",
       "      <td>436.978479</td>\n",
       "      <td>2.8</td>\n",
       "    </tr>\n",
       "    <tr>\n",
       "      <th>2</th>\n",
       "      <td>International plan</td>\n",
       "      <td>0.540541</td>\n",
       "      <td>0.076040</td>\n",
       "      <td>85.9</td>\n",
       "    </tr>\n",
       "    <tr>\n",
       "      <th>3</th>\n",
       "      <td>Voice mail plan</td>\n",
       "      <td>0.108108</td>\n",
       "      <td>0.295552</td>\n",
       "      <td>-173.4</td>\n",
       "    </tr>\n",
       "    <tr>\n",
       "      <th>4</th>\n",
       "      <td>Number vmail messages</td>\n",
       "      <td>3.702703</td>\n",
       "      <td>8.905308</td>\n",
       "      <td>-140.5</td>\n",
       "    </tr>\n",
       "    <tr>\n",
       "      <th>5</th>\n",
       "      <td>Total day minutes</td>\n",
       "      <td>231.500000</td>\n",
       "      <td>177.077618</td>\n",
       "      <td>23.5</td>\n",
       "    </tr>\n",
       "    <tr>\n",
       "      <th>6</th>\n",
       "      <td>Total day calls</td>\n",
       "      <td>100.621622</td>\n",
       "      <td>100.317073</td>\n",
       "      <td>0.3</td>\n",
       "    </tr>\n",
       "    <tr>\n",
       "      <th>7</th>\n",
       "      <td>Total day charge</td>\n",
       "      <td>39.355946</td>\n",
       "      <td>30.103874</td>\n",
       "      <td>23.5</td>\n",
       "    </tr>\n",
       "    <tr>\n",
       "      <th>8</th>\n",
       "      <td>Total eve minutes</td>\n",
       "      <td>223.943243</td>\n",
       "      <td>197.333716</td>\n",
       "      <td>11.9</td>\n",
       "    </tr>\n",
       "    <tr>\n",
       "      <th>9</th>\n",
       "      <td>Total eve calls</td>\n",
       "      <td>100.162162</td>\n",
       "      <td>100.424677</td>\n",
       "      <td>-0.3</td>\n",
       "    </tr>\n",
       "    <tr>\n",
       "      <th>10</th>\n",
       "      <td>Total eve charge</td>\n",
       "      <td>19.035405</td>\n",
       "      <td>16.773544</td>\n",
       "      <td>11.9</td>\n",
       "    </tr>\n",
       "    <tr>\n",
       "      <th>11</th>\n",
       "      <td>Total night minutes</td>\n",
       "      <td>215.529730</td>\n",
       "      <td>204.028264</td>\n",
       "      <td>5.3</td>\n",
       "    </tr>\n",
       "    <tr>\n",
       "      <th>12</th>\n",
       "      <td>Total night calls</td>\n",
       "      <td>102.648649</td>\n",
       "      <td>100.566714</td>\n",
       "      <td>2.0</td>\n",
       "    </tr>\n",
       "    <tr>\n",
       "      <th>13</th>\n",
       "      <td>Total night charge</td>\n",
       "      <td>9.698649</td>\n",
       "      <td>9.181306</td>\n",
       "      <td>5.3</td>\n",
       "    </tr>\n",
       "    <tr>\n",
       "      <th>14</th>\n",
       "      <td>Total intl minutes</td>\n",
       "      <td>11.908108</td>\n",
       "      <td>9.942181</td>\n",
       "      <td>16.5</td>\n",
       "    </tr>\n",
       "    <tr>\n",
       "      <th>15</th>\n",
       "      <td>Total intl calls</td>\n",
       "      <td>4.459459</td>\n",
       "      <td>4.523673</td>\n",
       "      <td>-1.4</td>\n",
       "    </tr>\n",
       "    <tr>\n",
       "      <th>16</th>\n",
       "      <td>Total intl charge</td>\n",
       "      <td>3.215676</td>\n",
       "      <td>2.684950</td>\n",
       "      <td>16.5</td>\n",
       "    </tr>\n",
       "    <tr>\n",
       "      <th>17</th>\n",
       "      <td>Customer service calls</td>\n",
       "      <td>3.081081</td>\n",
       "      <td>1.420373</td>\n",
       "      <td>53.9</td>\n",
       "    </tr>\n",
       "    <tr>\n",
       "      <th>18</th>\n",
       "      <td>Churn Prediction</td>\n",
       "      <td>1.000000</td>\n",
       "      <td>0.000000</td>\n",
       "      <td>100.0</td>\n",
       "    </tr>\n",
       "  </tbody>\n",
       "</table>\n",
       "</div>"
      ],
      "text/plain": [
       "                 The label  The ones who left  The ones who stayed  Difference\n",
       "0           Account length         104.918919           100.634146         4.1\n",
       "1                Area code         449.621622           436.978479         2.8\n",
       "2       International plan           0.540541             0.076040        85.9\n",
       "3          Voice mail plan           0.108108             0.295552      -173.4\n",
       "4    Number vmail messages           3.702703             8.905308      -140.5\n",
       "5        Total day minutes         231.500000           177.077618        23.5\n",
       "6          Total day calls         100.621622           100.317073         0.3\n",
       "7         Total day charge          39.355946            30.103874        23.5\n",
       "8        Total eve minutes         223.943243           197.333716        11.9\n",
       "9          Total eve calls         100.162162           100.424677        -0.3\n",
       "10        Total eve charge          19.035405            16.773544        11.9\n",
       "11     Total night minutes         215.529730           204.028264         5.3\n",
       "12       Total night calls         102.648649           100.566714         2.0\n",
       "13      Total night charge           9.698649             9.181306         5.3\n",
       "14      Total intl minutes          11.908108             9.942181        16.5\n",
       "15        Total intl calls           4.459459             4.523673        -1.4\n",
       "16       Total intl charge           3.215676             2.684950        16.5\n",
       "17  Customer service calls           3.081081             1.420373        53.9\n",
       "18        Churn Prediction           1.000000             0.000000       100.0"
      ]
     },
     "execution_count": 119,
     "metadata": {},
     "output_type": "execute_result"
    }
   ],
   "source": [
    "analysis"
   ]
  },
  {
   "cell_type": "code",
   "execution_count": 120,
   "id": "072c085c-1f67-4ee1-9195-e884c68ad84b",
   "metadata": {},
   "outputs": [],
   "source": [
    "analysis.to_csv('analysis.csv', index=False)"
   ]
  },
  {
   "cell_type": "code",
   "execution_count": 121,
   "id": "d2734518-5300-4e07-9074-89c125ccc79d",
   "metadata": {},
   "outputs": [
    {
     "data": {
      "text/html": [
       "<div>\n",
       "<style scoped>\n",
       "    .dataframe tbody tr th:only-of-type {\n",
       "        vertical-align: middle;\n",
       "    }\n",
       "\n",
       "    .dataframe tbody tr th {\n",
       "        vertical-align: top;\n",
       "    }\n",
       "\n",
       "    .dataframe thead th {\n",
       "        text-align: right;\n",
       "    }\n",
       "</style>\n",
       "<table border=\"1\" class=\"dataframe\">\n",
       "  <thead>\n",
       "    <tr style=\"text-align: right;\">\n",
       "      <th></th>\n",
       "      <th>The label</th>\n",
       "      <th>The ones who left</th>\n",
       "      <th>The ones who stayed</th>\n",
       "      <th>Difference</th>\n",
       "    </tr>\n",
       "  </thead>\n",
       "  <tbody>\n",
       "    <tr>\n",
       "      <th>0</th>\n",
       "      <td>Account length</td>\n",
       "      <td>104.918919</td>\n",
       "      <td>100.634146</td>\n",
       "      <td>4.1</td>\n",
       "    </tr>\n",
       "    <tr>\n",
       "      <th>1</th>\n",
       "      <td>Area code</td>\n",
       "      <td>449.621622</td>\n",
       "      <td>436.978479</td>\n",
       "      <td>2.8</td>\n",
       "    </tr>\n",
       "    <tr>\n",
       "      <th>2</th>\n",
       "      <td>International plan</td>\n",
       "      <td>0.540541</td>\n",
       "      <td>0.076040</td>\n",
       "      <td>85.9</td>\n",
       "    </tr>\n",
       "    <tr>\n",
       "      <th>3</th>\n",
       "      <td>Voice mail plan</td>\n",
       "      <td>0.108108</td>\n",
       "      <td>0.295552</td>\n",
       "      <td>-173.4</td>\n",
       "    </tr>\n",
       "    <tr>\n",
       "      <th>4</th>\n",
       "      <td>Number vmail messages</td>\n",
       "      <td>3.702703</td>\n",
       "      <td>8.905308</td>\n",
       "      <td>-140.5</td>\n",
       "    </tr>\n",
       "    <tr>\n",
       "      <th>5</th>\n",
       "      <td>Total day minutes</td>\n",
       "      <td>231.500000</td>\n",
       "      <td>177.077618</td>\n",
       "      <td>23.5</td>\n",
       "    </tr>\n",
       "    <tr>\n",
       "      <th>6</th>\n",
       "      <td>Total day calls</td>\n",
       "      <td>100.621622</td>\n",
       "      <td>100.317073</td>\n",
       "      <td>0.3</td>\n",
       "    </tr>\n",
       "    <tr>\n",
       "      <th>7</th>\n",
       "      <td>Total day charge</td>\n",
       "      <td>39.355946</td>\n",
       "      <td>30.103874</td>\n",
       "      <td>23.5</td>\n",
       "    </tr>\n",
       "    <tr>\n",
       "      <th>8</th>\n",
       "      <td>Total eve minutes</td>\n",
       "      <td>223.943243</td>\n",
       "      <td>197.333716</td>\n",
       "      <td>11.9</td>\n",
       "    </tr>\n",
       "    <tr>\n",
       "      <th>9</th>\n",
       "      <td>Total eve calls</td>\n",
       "      <td>100.162162</td>\n",
       "      <td>100.424677</td>\n",
       "      <td>-0.3</td>\n",
       "    </tr>\n",
       "    <tr>\n",
       "      <th>10</th>\n",
       "      <td>Total eve charge</td>\n",
       "      <td>19.035405</td>\n",
       "      <td>16.773544</td>\n",
       "      <td>11.9</td>\n",
       "    </tr>\n",
       "    <tr>\n",
       "      <th>11</th>\n",
       "      <td>Total night minutes</td>\n",
       "      <td>215.529730</td>\n",
       "      <td>204.028264</td>\n",
       "      <td>5.3</td>\n",
       "    </tr>\n",
       "    <tr>\n",
       "      <th>12</th>\n",
       "      <td>Total night calls</td>\n",
       "      <td>102.648649</td>\n",
       "      <td>100.566714</td>\n",
       "      <td>2.0</td>\n",
       "    </tr>\n",
       "    <tr>\n",
       "      <th>13</th>\n",
       "      <td>Total night charge</td>\n",
       "      <td>9.698649</td>\n",
       "      <td>9.181306</td>\n",
       "      <td>5.3</td>\n",
       "    </tr>\n",
       "    <tr>\n",
       "      <th>14</th>\n",
       "      <td>Total intl minutes</td>\n",
       "      <td>11.908108</td>\n",
       "      <td>9.942181</td>\n",
       "      <td>16.5</td>\n",
       "    </tr>\n",
       "    <tr>\n",
       "      <th>15</th>\n",
       "      <td>Total intl calls</td>\n",
       "      <td>4.459459</td>\n",
       "      <td>4.523673</td>\n",
       "      <td>-1.4</td>\n",
       "    </tr>\n",
       "    <tr>\n",
       "      <th>16</th>\n",
       "      <td>Total intl charge</td>\n",
       "      <td>3.215676</td>\n",
       "      <td>2.684950</td>\n",
       "      <td>16.5</td>\n",
       "    </tr>\n",
       "    <tr>\n",
       "      <th>17</th>\n",
       "      <td>Customer service calls</td>\n",
       "      <td>3.081081</td>\n",
       "      <td>1.420373</td>\n",
       "      <td>53.9</td>\n",
       "    </tr>\n",
       "    <tr>\n",
       "      <th>18</th>\n",
       "      <td>Churn Prediction</td>\n",
       "      <td>1.000000</td>\n",
       "      <td>0.000000</td>\n",
       "      <td>100.0</td>\n",
       "    </tr>\n",
       "  </tbody>\n",
       "</table>\n",
       "</div>"
      ],
      "text/plain": [
       "                 The label  The ones who left  The ones who stayed  Difference\n",
       "0           Account length         104.918919           100.634146         4.1\n",
       "1                Area code         449.621622           436.978479         2.8\n",
       "2       International plan           0.540541             0.076040        85.9\n",
       "3          Voice mail plan           0.108108             0.295552      -173.4\n",
       "4    Number vmail messages           3.702703             8.905308      -140.5\n",
       "5        Total day minutes         231.500000           177.077618        23.5\n",
       "6          Total day calls         100.621622           100.317073         0.3\n",
       "7         Total day charge          39.355946            30.103874        23.5\n",
       "8        Total eve minutes         223.943243           197.333716        11.9\n",
       "9          Total eve calls         100.162162           100.424677        -0.3\n",
       "10        Total eve charge          19.035405            16.773544        11.9\n",
       "11     Total night minutes         215.529730           204.028264         5.3\n",
       "12       Total night calls         102.648649           100.566714         2.0\n",
       "13      Total night charge           9.698649             9.181306         5.3\n",
       "14      Total intl minutes          11.908108             9.942181        16.5\n",
       "15        Total intl calls           4.459459             4.523673        -1.4\n",
       "16       Total intl charge           3.215676             2.684950        16.5\n",
       "17  Customer service calls           3.081081             1.420373        53.9\n",
       "18        Churn Prediction           1.000000             0.000000       100.0"
      ]
     },
     "execution_count": 121,
     "metadata": {},
     "output_type": "execute_result"
    }
   ],
   "source": [
    "df_df = pd.read_csv('analysis.csv')\n",
    "df_df"
   ]
  },
  {
   "cell_type": "code",
   "execution_count": null,
   "id": "f9d93631-b2ab-4b9f-8b5e-63da8afa0288",
   "metadata": {},
   "outputs": [],
   "source": []
  },
  {
   "cell_type": "code",
   "execution_count": null,
   "id": "0b90f9f7-f370-4508-af56-de27522d9d65",
   "metadata": {},
   "outputs": [],
   "source": []
  },
  {
   "cell_type": "code",
   "execution_count": null,
   "id": "d9cb1962-0ac4-4154-8e2f-3f6b18aed6f5",
   "metadata": {},
   "outputs": [],
   "source": []
  },
  {
   "cell_type": "code",
   "execution_count": null,
   "id": "59327265-426c-4983-8d80-cc5444c402fe",
   "metadata": {},
   "outputs": [],
   "source": []
  },
  {
   "cell_type": "code",
   "execution_count": null,
   "id": "9600205f-7db6-4f82-9706-ca57ac1c38ca",
   "metadata": {},
   "outputs": [],
   "source": []
  }
 ],
 "metadata": {
  "kernelspec": {
   "display_name": "Python 3 (ipykernel)",
   "language": "python",
   "name": "python3"
  },
  "language_info": {
   "codemirror_mode": {
    "name": "ipython",
    "version": 3
   },
   "file_extension": ".py",
   "mimetype": "text/x-python",
   "name": "python",
   "nbconvert_exporter": "python",
   "pygments_lexer": "ipython3",
   "version": "3.10.9"
  }
 },
 "nbformat": 4,
 "nbformat_minor": 5
}
